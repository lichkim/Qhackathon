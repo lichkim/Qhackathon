{
 "cells": [
  {
   "cell_type": "code",
   "execution_count": null,
   "metadata": {},
   "outputs": [],
   "source": [
    "from qiskit import QuantumCircuit, execute, Aer, IBMQ, BasicAer, QuantumRegister, ClassicalRegister\n",
    "from qiskit.compiler import transpile, assemble\n",
    "from qiskit.quantum_info import Operator, DensityMatrix\n",
    "import qiskit.quantum_info as qi\n",
    "from qiskit.tools import job_monitor\n",
    "import random as rand\n",
    "import scipy.linalg as la\n",
    "import numpy as np\n",
    "import matplotlib.pyplot as plt"
   ]
  },
  {
   "cell_type": "code",
   "execution_count": null,
   "metadata": {},
   "outputs": [],
   "source": [
    "from qiskit_ionq import IonQProvider\n",
    "provider = IonQProvider(\"z36hCyJneNIDKB891Uu4ZVeTcoBg0rXS\")"
   ]
  },
  {
   "cell_type": "code",
   "execution_count": null,
   "metadata": {},
   "outputs": [],
   "source": [
    "provider.backends()"
   ]
  },
  {
   "cell_type": "code",
   "execution_count": null,
   "metadata": {},
   "outputs": [],
   "source": [
    "backend = provider.get_backend('ionq_simulator')\n",
    "print('ionq_simulator: ' + str(backend.configuration().n_qubits))\n",
    "\n",
    "backend = provider.get_backend('ionq_qpu')\n",
    "print('ionQ_qpu: ' + str(backend.configuration().n_qubits))"
   ]
  },
  {
   "cell_type": "markdown",
   "metadata": {},
   "source": [
    "# Entanglement Experiment"
   ]
  },
  {
   "cell_type": "markdown",
   "metadata": {},
   "source": [
    "## 2-qubits"
   ]
  },
  {
   "cell_type": "markdown",
   "metadata": {},
   "source": [
    "### 2-qubits pure entangled state entropy"
   ]
  },
  {
   "cell_type": "code",
   "execution_count": null,
   "metadata": {},
   "outputs": [],
   "source": [
    "backend = provider.get_backend('ionq_qpu')\n",
    "numqbits = 2\n",
    "q = QuantumRegister(numqbits)\n",
    "c = ClassicalRegister(numqbits)\n",
    "qcirc = QuantumCircuit(q,c)\n",
    "\n",
    "qcirc.h(0)\n",
    "qcirc.cx(0, 1)\n",
    "qcirc.measure(0, 0)\n",
    "qcirc.measure(1, 1)\n",
    "qcirc.draw()"
   ]
  },
  {
   "cell_type": "code",
   "execution_count": null,
   "metadata": {},
   "outputs": [],
   "source": [
    "counts_list = list()\n",
    "ensemble = 10\n",
    "shots = 1024\n",
    "\n",
    "for ens in range(ensemble):\n",
    "    job_exp = execute(qcirc, backend=backend, shots=shots)\n",
    "    result = job_exp.result()\n",
    "    counts_list.append(result.get_counts(qcirc))\n",
    "    plt.bar(counts_list[-1].keys(), counts_list[-1].values())\n",
    "    plt.show()\n",
    "    print(f\"{ens + 1}th try: \")\n",
    "    print(counts_list[-1])"
   ]
  },
  {
   "cell_type": "code",
   "execution_count": null,
   "metadata": {},
   "outputs": [],
   "source": [
    "avg_list_2pure_entangle = list()\n",
    "entropy_2pure_entangle = 0\n",
    "available_qubits_list = list()  #From '00' to '11'\n",
    "for i in range(int(2 ** numqbits)):\n",
    "    number = format(i, \"b\")\n",
    "    available_qubits_list.append(str(str(number).zfill(numqbits)))\n",
    "\n",
    "for i in range(len(available_qubits_list)):\n",
    "    avg = 0\n",
    "    for dic in counts_list:\n",
    "        try:\n",
    "            idx = list(dic.keys()).index(available_qubits_list[i])\n",
    "        except ValueError:  #There is no result qubits\n",
    "            avg += 0\n",
    "        avg += list(dic.values())[idx]\n",
    "    avg /= len(counts_list)\n",
    "    avg_list_2pure_entangle.append(avg)\n",
    "    entropy_2pure_entangle += -1 * (avg / shots) * np.log(avg / shots)\n",
    "\n",
    "result_list_2pure_entangle = dict(zip(available_qubits_list, avg_list_2pure_entangle))\n",
    "print(result_list_2pure_entangle)\n",
    "print(f\"entropy: {entropy_2pure_entangle}\")"
   ]
  },
  {
   "cell_type": "code",
   "execution_count": null,
   "metadata": {},
   "outputs": [],
   "source": [
    "plt.bar(result_list_2pure_entangle.keys(), result_list_2pure_entangle.values())\n",
    "plt.title(\"2 pure entangled state\")\n",
    "plt.xlabel(\"qubits\")\n",
    "# plt.xticks(fontsize = 7)\n",
    "plt.ylabel(\"ensemble=10, number of qubits\")\n",
    "plt.show()"
   ]
  },
  {
   "cell_type": "markdown",
   "metadata": {},
   "source": [
    "### 2-qubits separated state"
   ]
  },
  {
   "cell_type": "code",
   "execution_count": null,
   "metadata": {},
   "outputs": [],
   "source": [
    "backend = provider.get_backend('ionq_qpu')\n",
    "numqbits = 2\n",
    "q = QuantumRegister(numqbits)\n",
    "c = ClassicalRegister(numqbits)\n",
    "qcirc = QuantumCircuit(q,c)\n",
    "\n",
    "qcirc.h(0)\n",
    "qcirc.h(1)\n",
    "qcirc.measure(0, 0)\n",
    "qcirc.measure(1, 1)\n",
    "qcirc.draw()"
   ]
  },
  {
   "cell_type": "code",
   "execution_count": null,
   "metadata": {},
   "outputs": [],
   "source": [
    "counts_list = list()\n",
    "ensemble = 10\n",
    "shots = 1024\n",
    "\n",
    "for ens in range(ensemble):\n",
    "    job_exp = execute(qcirc, backend=backend, shots=shots)\n",
    "    result = job_exp.result()\n",
    "    counts_list.append(result.get_counts(qcirc))\n",
    "    plt.bar(counts_list[-1].keys(), counts_list[-1].values())\n",
    "    plt.show()\n",
    "    print(f\"{ens + 1}th try: \")\n",
    "    print(counts_list[-1])"
   ]
  },
  {
   "cell_type": "code",
   "execution_count": null,
   "metadata": {},
   "outputs": [],
   "source": [
    "avg_list_2separate = list()\n",
    "entropy_2separate = 0\n",
    "available_qubits_list = list()  #From '00' to '11'\n",
    "for i in range(int(2 ** numqbits)):\n",
    "    number = format(i, \"b\")\n",
    "    available_qubits_list.append(str(str(number).zfill(numqbits)))\n",
    "\n",
    "for i in range(len(available_qubits_list)):\n",
    "    avg = 0\n",
    "    for dic in counts_list:\n",
    "        try:\n",
    "            idx = list(dic.keys()).index(available_qubits_list[i])\n",
    "        except ValueError:  #There is no result qubits\n",
    "            avg += 0\n",
    "        avg += list(dic.values())[idx]\n",
    "    avg /= len(counts_list)\n",
    "    avg_list_2separate.append(avg)\n",
    "    entropy_2separate += -1 * (avg / shots) * np.log(avg / shots)\n",
    "\n",
    "result_list_2separate = dict(zip(available_qubits_list, avg_list_2separate))\n",
    "print(result_list_2separate)\n",
    "print(f\"entropy: {entropy_2separate}\")"
   ]
  },
  {
   "cell_type": "code",
   "execution_count": null,
   "metadata": {},
   "outputs": [],
   "source": [
    "plt.bar(result_list_2separate.keys(), result_list_2separate.values())\n",
    "plt.title(\"2-qubits separate\")\n",
    "plt.xlabel(\"qubits\")\n",
    "# plt.xticks(fontsize = 7)\n",
    "plt.ylabel(\"ensemble=10, number of qubits\")\n",
    "plt.show()"
   ]
  },
  {
   "cell_type": "markdown",
   "metadata": {},
   "source": [
    "### 2-qubits mixed entangled state"
   ]
  },
  {
   "cell_type": "code",
   "execution_count": null,
   "metadata": {},
   "outputs": [],
   "source": [
    "backend = provider.get_backend('ionq_qpu')\n",
    "numqbits = 2\n",
    "q = QuantumRegister(numqbits)\n",
    "c = ClassicalRegister(numqbits)\n",
    "qcirc = QuantumCircuit(q,c)\n",
    "\n",
    "qcirc.h(0)\n",
    "qcirc.cx(0, 1)\n",
    "qcirc.h(0)\n",
    "qcirc.cx(0, 1)\n",
    "qcirc.measure(0, 0)\n",
    "qcirc.measure(1, 1)\n",
    "qcirc.draw()"
   ]
  },
  {
   "cell_type": "code",
   "execution_count": null,
   "metadata": {},
   "outputs": [],
   "source": [
    "avg_list_2mixed_entangle = list()\n",
    "entropy_2mixed_entangle = 0\n",
    "available_qubits_list = list()  #From '00' to '11'\n",
    "for i in range(int(2 ** numqbits)):\n",
    "    number = format(i, \"b\")\n",
    "    available_qubits_list.append(str(str(number).zfill(4)))\n",
    "\n",
    "for i in range(len(available_qubits_list)):\n",
    "    avg = 0\n",
    "    for dic in counts_list:\n",
    "        try:\n",
    "            idx = list(dic.keys()).index(available_qubits_list[i])\n",
    "        except ValueError:\n",
    "            avg += 0\n",
    "        avg += list(dic.values())[idx]\n",
    "    avg /= len(counts_list)\n",
    "    avg_list_2mixed_entangle.append(avg)\n",
    "    entropy_2mixed_entangle += -1 * (avg / shots) * np.log(avg / shots)\n",
    "\n",
    "result_list_2mixed_entangle = dict(zip(available_qubits_list, avg_list_2mixed_entangle))\n",
    "print(result_list_2mixed_entangle)\n",
    "print(f\"entropy: {entropy_2mixed_entangle}\")"
   ]
  },
  {
   "cell_type": "code",
   "execution_count": null,
   "metadata": {},
   "outputs": [],
   "source": [
    "plt.bar(result_list_2mixed_entangle.keys(), result_list_2mixed_entangle.values())\n",
    "plt.title(\"2-qubits mixed entanglement\")\n",
    "plt.xlabel(\"qubits\")\n",
    "# plt.xticks(fontsize = 7)\n",
    "plt.ylabel(\"ensemble=10, number of qubits\")\n",
    "plt.show()"
   ]
  },
  {
   "cell_type": "markdown",
   "metadata": {},
   "source": [
    "## 3-qubits"
   ]
  },
  {
   "cell_type": "markdown",
   "metadata": {},
   "source": [
    "### 3-qubits Separated state Entropy"
   ]
  },
  {
   "cell_type": "code",
   "execution_count": null,
   "metadata": {},
   "outputs": [],
   "source": [
    "backend = provider.get_backend('ionq_qpu')\n",
    "numqbits = 3\n",
    "q = QuantumRegister(numqbits)\n",
    "c = ClassicalRegister(numqbits)\n",
    "qcirc = QuantumCircuit(q,c)\n",
    "\n",
    "qcirc.h(0)\n",
    "qcirc.h(1)\n",
    "qcirc.h(2)\n",
    "qcirc.measure(0, 0)\n",
    "qcirc.measure(1, 1)\n",
    "qcirc.measure(2, 2)\n",
    "qcirc.draw()"
   ]
  },
  {
   "cell_type": "code",
   "execution_count": null,
   "metadata": {},
   "outputs": [],
   "source": [
    "counts_list = list()\n",
    "ensemble = 10\n",
    "shots = 1024\n",
    "\n",
    "for ens in range(ensemble):\n",
    "    job_exp = execute(qcirc, backend=backend, shots=shots)\n",
    "    result = job_exp.result()\n",
    "    counts_list.append(result.get_counts(qcirc))\n",
    "    plt.bar(counts_list[-1].keys(), counts_list[-1].values())\n",
    "    plt.show()\n",
    "    print(f\"{ens + 1}th try: \")\n",
    "    print(counts_list[-1])"
   ]
  },
  {
   "cell_type": "code",
   "execution_count": null,
   "metadata": {},
   "outputs": [],
   "source": [
    "avg_list_3separated = list()\n",
    "entropy_3separated = 0\n",
    "for i in range(len(counts_list[0].keys())):\n",
    "    avg = 0\n",
    "    for j in range(len(counts_list)):\n",
    "        avg += list(counts_list[j].values())[i]\n",
    "    avg /= len(counts_list)\n",
    "    avg_list_3separated.append(avg)\n",
    "    entropy_3separated += -1 * (avg / shots) * np.log(avg / shots)\n",
    "\n",
    "result_list_3separated = dict(zip(counts_list[0].keys(), avg_list_3separated))\n",
    "print(result_list_3separated)\n",
    "print(f\"entropy: {entropy_3separated}\")"
   ]
  },
  {
   "cell_type": "code",
   "execution_count": null,
   "metadata": {},
   "outputs": [],
   "source": [
    "plt.bar(result_list_3separated.keys(), result_list_3separated.values())\n",
    "plt.title(\"3 qubits separated\")\n",
    "plt.xlabel(\"qubits\")\n",
    "plt.ylabel(\"ensemble=10 of qubits\")\n",
    "plt.show()"
   ]
  },
  {
   "cell_type": "markdown",
   "metadata": {},
   "source": [
    "### 3-Qubits W state entanglement entropy"
   ]
  },
  {
   "cell_type": "code",
   "execution_count": null,
   "metadata": {},
   "outputs": [],
   "source": [
    "numqbits = 3\n",
    "q = QuantumRegister(numqbits)\n",
    "c = ClassicalRegister(numqbits)\n",
    "qcirc = QuantumCircuit(q,c)\n",
    "\n",
    "qcirc.ry(1.9106332362490184, q[0])\n",
    "qcirc.cu(np.pi / 2, np.pi / 2, np.pi / 2, np.pi / 2, q[0], q[1])\n",
    "qcirc.cx(q[1], q[2])\n",
    "qcirc.cx(q[0], q[1])\n",
    "qcirc.x(q[0])\n",
    "\n",
    "qcirc.measure(q[0], c[0])\n",
    "qcirc.measure(q[1], c[1])\n",
    "qcirc.measure(q[2], c[2])\n",
    "\n",
    "qcirc.draw()"
   ]
  },
  {
   "cell_type": "code",
   "execution_count": null,
   "metadata": {},
   "outputs": [],
   "source": [
    "counts_list = list()\n",
    "ensemble = 10\n",
    "shots = 1024\n",
    "\n",
    "for ens in range(ensemble):\n",
    "    job_exp = execute(qcirc, backend=backend, shots=shots)\n",
    "    result = job_exp.result()\n",
    "    counts_list.append(result.get_counts(qcirc))\n",
    "    plt.bar(counts_list[-1].keys(), counts_list[-1].values())\n",
    "    plt.show()\n",
    "    print(f\"{ens + 1}th try: \")\n",
    "    print(counts_list[-1])"
   ]
  },
  {
   "cell_type": "code",
   "execution_count": null,
   "metadata": {},
   "outputs": [],
   "source": [
    "avg_list_wstate = list()\n",
    "entropy_wstate = 0\n",
    "for i in range(len(counts_list[0].keys())):\n",
    "    avg = 0\n",
    "    for j in range(len(counts_list)):\n",
    "        avg += list(counts_list[j].values())[i]\n",
    "    avg /= len(counts_list)\n",
    "    avg_list_wstate.append(avg)\n",
    "    entropy_wstate += (avg / shots) * np.log(avg / shots)\n",
    "\n",
    "result_list_wstate = dict(zip(counts_list[0].keys(), avg_list_wstate))\n",
    "print(result_list_wstate)\n",
    "print(f\"entropy: {entropy_wstate}\")"
   ]
  },
  {
   "cell_type": "code",
   "execution_count": null,
   "metadata": {},
   "outputs": [],
   "source": [
    "plt.bar(result_list_wstate.keys(), result_list_wstate.values())\n",
    "plt.title(\"w state\")\n",
    "plt.xlabel(\"qubits\")\n",
    "plt.ylabel(\"ensemble=10 of qubits\")\n",
    "plt.show()"
   ]
  },
  {
   "cell_type": "markdown",
   "metadata": {},
   "source": [
    "### 3-Qubits GHZ state Entanglement Entropy"
   ]
  },
  {
   "cell_type": "code",
   "execution_count": null,
   "metadata": {},
   "outputs": [],
   "source": [
    "backend = provider.get_backend('ionq_qpu')\n",
    "numqbits = 3\n",
    "q = QuantumRegister(numqbits)\n",
    "c = ClassicalRegister(numqbits)\n",
    "qcirc = QuantumCircuit(q,c)\n",
    "\n",
    "qcirc.h(0)\n",
    "qcirc.cx(0, 1)\n",
    "qcirc.cx(1, 2)\n",
    "qcirc.measure(0, 0)\n",
    "qcirc.measure(1, 1)\n",
    "qcirc.measure(2, 2)\n",
    "qcirc.draw()"
   ]
  },
  {
   "cell_type": "code",
   "execution_count": null,
   "metadata": {},
   "outputs": [],
   "source": [
    "counts_list = list()\n",
    "ensemble = 10\n",
    "shots = 1024\n",
    "\n",
    "for ens in range(ensemble):\n",
    "    job_exp = execute(qcirc, backend=backend, shots=shots)\n",
    "    result = job_exp.result()\n",
    "    counts_list.append(result.get_counts(qcirc))\n",
    "    plt.bar(counts_list[-1].keys(), counts_list[-1].values())\n",
    "    plt.show()\n",
    "    print(f\"{ens + 1}th try: \")\n",
    "    print(counts_list[-1])"
   ]
  },
  {
   "cell_type": "code",
   "execution_count": null,
   "metadata": {},
   "outputs": [],
   "source": [
    "avg_list_3ghz = list()\n",
    "entropy_3ghz = 0\n",
    "available_qubits_list = list()  #From '000' to '111'\n",
    "for i in range(int(2 ** numqbits)):\n",
    "    number = format(i, \"b\")\n",
    "    available_qubits_list.append(str(str(number).zfill(numqbits)))\n",
    "\n",
    "for i in range(len(available_qubits_list)):\n",
    "    avg = 0\n",
    "    for dic in counts_list:\n",
    "        try:\n",
    "            idx = list(dic.keys()).index(available_qubits_list[i])\n",
    "        except ValueError:\n",
    "            avg += 0\n",
    "        avg += list(dic.values())[idx]\n",
    "    avg /= len(counts_list)\n",
    "    avg_list_3ghz.append(avg)\n",
    "    entropy_3ghz += -1 * (avg / shots) * np.log(avg / shots)\n",
    "\n",
    "result_list_3ghz = dict(zip(available_qubits_list, avg_list_3ghz))\n",
    "print(result_list_3ghz)\n",
    "print(f\"entropy: {entropy_3ghz}\")"
   ]
  },
  {
   "cell_type": "code",
   "execution_count": null,
   "metadata": {},
   "outputs": [],
   "source": [
    "plt.bar(result_list_3ghz.keys(), result_list_3ghz.values())\n",
    "plt.title(\"3 qubits GHZ entangled state\")\n",
    "plt.xlabel(\"qubits\")\n",
    "# plt.xticks(fontsize = 7)\n",
    "plt.ylabel(\"ensemble=10, number of qubits\")\n",
    "plt.show()"
   ]
  },
  {
   "cell_type": "markdown",
   "metadata": {},
   "source": [
    "### 3-Qubits one-pair entangled state Entanglement Entropy "
   ]
  },
  {
   "cell_type": "code",
   "execution_count": null,
   "metadata": {},
   "outputs": [],
   "source": [
    "backend = provider.get_backend('ionq_qpu')\n",
    "numqbits = 3\n",
    "q = QuantumRegister(numqbits)\n",
    "c = ClassicalRegister(numqbits)\n",
    "qcirc = QuantumCircuit(q,c)\n",
    "\n",
    "qcirc.h(0)\n",
    "qcirc.cx(0, 1)\n",
    "qcirc.h(2)\n",
    "qcirc.measure(0, 0)\n",
    "qcirc.measure(1, 1)\n",
    "qcirc.measure(2, 2)\n",
    "qcirc.draw()"
   ]
  },
  {
   "cell_type": "code",
   "execution_count": null,
   "metadata": {},
   "outputs": [],
   "source": [
    "counts_list = list()\n",
    "ensemble = 10\n",
    "shots = 1024\n",
    "\n",
    "for ens in range(ensemble):\n",
    "    job_exp = execute(qcirc, backend=backend, shots=shots)\n",
    "    result = job_exp.result()\n",
    "    counts_list.append(result.get_counts(qcirc))\n",
    "    plt.bar(counts_list[-1].keys(), counts_list[-1].values())\n",
    "    plt.show()\n",
    "    print(f\"{ens + 1}th try: \")\n",
    "    print(counts_list[-1])"
   ]
  },
  {
   "cell_type": "code",
   "execution_count": null,
   "metadata": {},
   "outputs": [],
   "source": [
    "avg_list_pair_entangled_3qb = list()\n",
    "entropy_pair_entangled_3qb = 0\n",
    "available_qubits_list = list()  #From '000' to '111'\n",
    "for i in range(int(2 ** numqbits)):\n",
    "    number = format(i, \"b\")\n",
    "    available_qubits_list.append(str(str(number).zfill(numqbits)))\n",
    "\n",
    "for i in range(len(available_qubits_list)):\n",
    "    avg = 0\n",
    "    for dic in counts_list:\n",
    "        try:\n",
    "            idx = list(dic.keys()).index(available_qubits_list[i])\n",
    "        except ValueError:\n",
    "            avg += 0\n",
    "        avg += list(dic.values())[idx]\n",
    "    avg /= len(counts_list)\n",
    "    avg_list_pair_entangled_3qb.append(avg)\n",
    "    entropy_pair_entangled_3qb += -1 * (avg / shots) * np.log(avg / shots)\n",
    "\n",
    "result_list_pair_entangled_3qb = dict(zip(available_qubits_list, avg_list_pair_entangled_3qb))\n",
    "print(result_list_pair_entangled_3qb)\n",
    "print(f\"entropy: {entropy_pair_entangled_3qb}\")"
   ]
  },
  {
   "cell_type": "code",
   "execution_count": null,
   "metadata": {},
   "outputs": [],
   "source": [
    "plt.bar(result_list_pair_entangled_3qb.keys(), result_list_pair_entangled_3qb.values())\n",
    "plt.title(\"3 qubits but one pair entangled state\")\n",
    "plt.xlabel(\"qubits\")\n",
    "# plt.xticks(fontsize = 7)\n",
    "plt.ylabel(\"ensemble=10, number of qubits\")\n",
    "plt.show()"
   ]
  },
  {
   "cell_type": "markdown",
   "metadata": {},
   "source": [
    "## 4 qubits"
   ]
  },
  {
   "cell_type": "markdown",
   "metadata": {},
   "source": [
    "### 4-Qubits GHZ state Entanglement Entropy"
   ]
  },
  {
   "cell_type": "code",
   "execution_count": null,
   "metadata": {},
   "outputs": [],
   "source": [
    "backend = provider.get_backend('ionq_qpu')\n",
    "numqbits = 4\n",
    "q = QuantumRegister(numqbits)\n",
    "c = ClassicalRegister(numqbits)\n",
    "qcirc = QuantumCircuit(q,c)\n",
    "\n",
    "qcirc.h(0)\n",
    "qcirc.cx(0, 1)\n",
    "qcirc.cx(1, 2)\n",
    "qcirc.cx(2, 3)\n",
    "qcirc.measure(0, 0)\n",
    "qcirc.measure(1, 1)\n",
    "qcirc.measure(2, 2)\n",
    "qcirc.measure(3, 3)\n",
    "qcirc.draw()"
   ]
  },
  {
   "cell_type": "code",
   "execution_count": null,
   "metadata": {},
   "outputs": [],
   "source": [
    "counts_list = list()\n",
    "ensemble = 10\n",
    "shots = 1024\n",
    "\n",
    "for ens in range(ensemble):\n",
    "    job_exp = execute(qcirc, backend=backend, shots=shots)\n",
    "    result = job_exp.result()\n",
    "    counts_list.append(result.get_counts(qcirc))\n",
    "    plt.bar(counts_list[-1].keys(), counts_list[-1].values())\n",
    "    plt.show()\n",
    "    print(f\"{ens + 1}th try: \")\n",
    "    print(counts_list[-1])"
   ]
  },
  {
   "cell_type": "code",
   "execution_count": null,
   "metadata": {},
   "outputs": [],
   "source": [
    "avg_list_4ghz = list()\n",
    "entropy_4ghz = 0\n",
    "available_qubits_list = list()  #From '0000' to '1111'\n",
    "for i in range(int(2 ** numqbits)):\n",
    "    number = format(i, \"b\")\n",
    "    available_qubits_list.append(str(str(number).zfill(4)))\n",
    "\n",
    "for i in range(len(available_qubits_list)):\n",
    "    avg = 0\n",
    "    for dic in counts_list:\n",
    "        try:\n",
    "            idx = list(dic.keys()).index(available_qubits_list[i])\n",
    "        except ValueError:\n",
    "            avg += 0\n",
    "        avg += list(dic.values())[idx]\n",
    "    avg /= len(counts_list)\n",
    "    avg_list_4ghz.append(avg)\n",
    "    entropy_4ghz += -1 * (avg / shots) * np.log(avg / shots)\n",
    "\n",
    "result_list_4ghz = dict(zip(available_qubits_list, avg_list_4ghz))\n",
    "print(result_list_4ghz)\n",
    "print(f\"entropy: {entropy_4ghz}\")"
   ]
  },
  {
   "cell_type": "code",
   "execution_count": null,
   "metadata": {},
   "outputs": [],
   "source": [
    "plt.bar(result_list_4ghz.keys(), result_list_4ghz.values())\n",
    "plt.title(\"4 qubits GHZ state\")\n",
    "plt.xlabel(\"qubits\")\n",
    "plt.xticks(fontsize = 7)\n",
    "plt.ylabel(\"ensemble=10, number of qubits\")\n",
    "plt.show()"
   ]
  }
 ],
 "metadata": {
  "kernelspec": {
   "display_name": "Python 3.9.10 64-bit",
   "language": "python",
   "name": "python3"
  },
  "language_info": {
   "name": "python",
   "version": "3.9.10"
  },
  "orig_nbformat": 4,
  "vscode": {
   "interpreter": {
    "hash": "1f7dcc007c048d64e7eca25f425864d32df23000a2f3e26bc950d755587dbf20"
   }
  }
 },
 "nbformat": 4,
 "nbformat_minor": 2
}
